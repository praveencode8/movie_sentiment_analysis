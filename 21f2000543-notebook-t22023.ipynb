{
 "cells": [
  {
   "cell_type": "code",
   "execution_count": 1,
   "id": "974a61bf",
   "metadata": {
    "execution": {
     "iopub.execute_input": "2023-08-13T13:46:19.283595Z",
     "iopub.status.busy": "2023-08-13T13:46:19.283067Z",
     "iopub.status.idle": "2023-08-13T13:46:21.394211Z",
     "shell.execute_reply": "2023-08-13T13:46:21.393264Z"
    },
    "id": "SmzyYKR1E_dq",
    "papermill": {
     "duration": 2.125678,
     "end_time": "2023-08-13T13:46:21.397009",
     "exception": false,
     "start_time": "2023-08-13T13:46:19.271331",
     "status": "completed"
    },
    "tags": []
   },
   "outputs": [],
   "source": [
    "import pandas as pd\n",
    "import re\n",
    "import warnings\n",
    "warnings.filterwarnings(\"ignore\")\n",
    "\n",
    "from sklearn.model_selection import train_test_split, GridSearchCV\n",
    "from sklearn.feature_extraction.text import TfidfVectorizer\n",
    "\n",
    "from sklearn.linear_model import LogisticRegression\n",
    "from sklearn.tree import DecisionTreeClassifier\n",
    "from sklearn.naive_bayes import MultinomialNB\n",
    "\n",
    "from sklearn.pipeline import Pipeline\n",
    "from sklearn.metrics import confusion_matrix, classification_report, accuracy_score\n",
    "\n",
    "from sklearn.preprocessing import FunctionTransformer\n",
    "\n",
    "\n",
    "import matplotlib.pyplot as plt\n",
    "import seaborn as sns"
   ]
  },
  {
   "cell_type": "code",
   "execution_count": 2,
   "id": "94135c53",
   "metadata": {
    "execution": {
     "iopub.execute_input": "2023-08-13T13:46:21.416525Z",
     "iopub.status.busy": "2023-08-13T13:46:21.415859Z",
     "iopub.status.idle": "2023-08-13T13:46:22.585150Z",
     "shell.execute_reply": "2023-08-13T13:46:22.584154Z"
    },
    "id": "ZliWnXzrFJfW",
    "papermill": {
     "duration": 1.182022,
     "end_time": "2023-08-13T13:46:22.587855",
     "exception": false,
     "start_time": "2023-08-13T13:46:21.405833",
     "status": "completed"
    },
    "tags": []
   },
   "outputs": [],
   "source": [
    "#Loading the train data\n",
    "train_data = pd.read_csv('/kaggle/input/sentiment-prediction-on-movie-reviews/train.csv')\n"
   ]
  },
  {
   "cell_type": "code",
   "execution_count": 3,
   "id": "d9811cd4",
   "metadata": {
    "execution": {
     "iopub.execute_input": "2023-08-13T13:46:22.607467Z",
     "iopub.status.busy": "2023-08-13T13:46:22.606616Z",
     "iopub.status.idle": "2023-08-13T13:46:22.648842Z",
     "shell.execute_reply": "2023-08-13T13:46:22.648123Z"
    },
    "id": "UP8lCLnNFKt1",
    "outputId": "eb2c022a-ed78-4de1-e52a-14ead033b29e",
    "papermill": {
     "duration": 0.054029,
     "end_time": "2023-08-13T13:46:22.650744",
     "exception": false,
     "start_time": "2023-08-13T13:46:22.596715",
     "status": "completed"
    },
    "tags": []
   },
   "outputs": [
    {
     "data": {
      "text/html": [
       "<div>\n",
       "<style scoped>\n",
       "    .dataframe tbody tr th:only-of-type {\n",
       "        vertical-align: middle;\n",
       "    }\n",
       "\n",
       "    .dataframe tbody tr th {\n",
       "        vertical-align: top;\n",
       "    }\n",
       "\n",
       "    .dataframe thead th {\n",
       "        text-align: right;\n",
       "    }\n",
       "</style>\n",
       "<table border=\"1\" class=\"dataframe\">\n",
       "  <thead>\n",
       "    <tr style=\"text-align: right;\">\n",
       "      <th></th>\n",
       "      <th>reviewText</th>\n",
       "      <th>sentiment</th>\n",
       "    </tr>\n",
       "  </thead>\n",
       "  <tbody>\n",
       "    <tr>\n",
       "      <th>0</th>\n",
       "      <td>Henry Selick’s first movie since 2009’s Corali...</td>\n",
       "      <td>POSITIVE</td>\n",
       "    </tr>\n",
       "    <tr>\n",
       "      <th>1</th>\n",
       "      <td>With a cast that reads like the Vogue Oscar pa...</td>\n",
       "      <td>NEGATIVE</td>\n",
       "    </tr>\n",
       "    <tr>\n",
       "      <th>2</th>\n",
       "      <td>Creed II does not give us anything but another...</td>\n",
       "      <td>POSITIVE</td>\n",
       "    </tr>\n",
       "    <tr>\n",
       "      <th>3</th>\n",
       "      <td>I know what you're thinking, but this is no Li...</td>\n",
       "      <td>POSITIVE</td>\n",
       "    </tr>\n",
       "    <tr>\n",
       "      <th>4</th>\n",
       "      <td>Director Fernando Meirelles tells the story wi...</td>\n",
       "      <td>POSITIVE</td>\n",
       "    </tr>\n",
       "  </tbody>\n",
       "</table>\n",
       "</div>"
      ],
      "text/plain": [
       "                                          reviewText sentiment\n",
       "0  Henry Selick’s first movie since 2009’s Corali...  POSITIVE\n",
       "1  With a cast that reads like the Vogue Oscar pa...  NEGATIVE\n",
       "2  Creed II does not give us anything but another...  POSITIVE\n",
       "3  I know what you're thinking, but this is no Li...  POSITIVE\n",
       "4  Director Fernando Meirelles tells the story wi...  POSITIVE"
      ]
     },
     "execution_count": 3,
     "metadata": {},
     "output_type": "execute_result"
    }
   ],
   "source": [
    "# Keeping only the 'reviewText' and 'sentiment' columns for the analysis\n",
    "train_data = train_data[['reviewText', 'sentiment']]\n",
    "\n",
    "train_data.head()"
   ]
  },
  {
   "cell_type": "code",
   "execution_count": 4,
   "id": "8cc0918d",
   "metadata": {
    "execution": {
     "iopub.execute_input": "2023-08-13T13:46:22.670365Z",
     "iopub.status.busy": "2023-08-13T13:46:22.670038Z",
     "iopub.status.idle": "2023-08-13T13:46:22.798307Z",
     "shell.execute_reply": "2023-08-13T13:46:22.797147Z"
    },
    "id": "wreK_K1aFOJH",
    "outputId": "b68c226d-c0a2-4bfe-ccd8-6fb017409ff1",
    "papermill": {
     "duration": 0.141665,
     "end_time": "2023-08-13T13:46:22.800778",
     "exception": false,
     "start_time": "2023-08-13T13:46:22.659113",
     "status": "completed"
    },
    "tags": []
   },
   "outputs": [
    {
     "data": {
      "text/plain": [
       "(155082, 2)"
      ]
     },
     "execution_count": 4,
     "metadata": {},
     "output_type": "execute_result"
    }
   ],
   "source": [
    "#Droping the duplicates\n",
    "train_data = train_data.drop_duplicates()\n",
    "train_data.shape"
   ]
  },
  {
   "cell_type": "code",
   "execution_count": 5,
   "id": "5117cfb2",
   "metadata": {
    "execution": {
     "iopub.execute_input": "2023-08-13T13:46:22.825605Z",
     "iopub.status.busy": "2023-08-13T13:46:22.825088Z",
     "iopub.status.idle": "2023-08-13T13:46:23.253780Z",
     "shell.execute_reply": "2023-08-13T13:46:23.252697Z"
    },
    "papermill": {
     "duration": 0.445943,
     "end_time": "2023-08-13T13:46:23.256631",
     "exception": false,
     "start_time": "2023-08-13T13:46:22.810688",
     "status": "completed"
    },
    "tags": []
   },
   "outputs": [
    {
     "data": {
      "text/plain": [
       "Text(0, 0.5, 'Count')"
      ]
     },
     "execution_count": 5,
     "metadata": {},
     "output_type": "execute_result"
    },
    {
     "data": {
      "image/png": "[encoded data removed]",
      "text/plain": [
       "<Figure size 400x400 with 1 Axes>"
      ]
     },
     "metadata": {},
     "output_type": "display_data"
    }
   ],
   "source": [
    "# Creating a bar plot for the distribution of sentiments\n",
    "plt.figure(figsize=(4,4))\n",
    "sns.countplot(x='sentiment', data=train_data)\n",
    "plt.title('Distribution of Sentiments (NEGATIVE vs.POSITIVE)')\n",
    "plt.xlabel('Sentiment')\n",
    "plt.ylabel('Count')"
   ]
  },
  {
   "cell_type": "markdown",
   "id": "449198f6",
   "metadata": {
    "papermill": {
     "duration": 0.00979,
     "end_time": "2023-08-13T13:46:23.278165",
     "exception": false,
     "start_time": "2023-08-13T13:46:23.268375",
     "status": "completed"
    },
    "tags": []
   },
   "source": [
    "Distribution shows that the data is skewed towards the POSITIVE sentiment."
   ]
  },
  {
   "cell_type": "code",
   "execution_count": 6,
   "id": "c79f21ae",
   "metadata": {
    "execution": {
     "iopub.execute_input": "2023-08-13T13:46:23.298815Z",
     "iopub.status.busy": "2023-08-13T13:46:23.298118Z",
     "iopub.status.idle": "2023-08-13T13:46:23.309764Z",
     "shell.execute_reply": "2023-08-13T13:46:23.308859Z"
    },
    "id": "TAlroqNRFOFS",
    "outputId": "b3e8da17-2e5a-4878-c8d6-4b106c0aab78",
    "papermill": {
     "duration": 0.0246,
     "end_time": "2023-08-13T13:46:23.311930",
     "exception": false,
     "start_time": "2023-08-13T13:46:23.287330",
     "status": "completed"
    },
    "tags": []
   },
   "outputs": [],
   "source": [
    "# Function to fill NA values\n",
    "def fill_na_values(data):\n",
    "    return data.fillna('')\n",
    "\n",
    "# Function to clean the text\n",
    "def preprocess_reviewtext(text):\n",
    "        # Converting to lowercase\n",
    "        text = text.lower()\n",
    "\n",
    "        # Removing unwanted characters using regex\n",
    "        text = re.sub(r'[^\\w\\s]', '', text)  # Remove punctuation\n",
    "        text = re.sub(r'\\d+', '', text)      # Remove numbers\n",
    "\n",
    "        #Removing stop words\n",
    "        stop_words = [\"i\", \"me\", \"my\", \"myself\", \"we\", \"us\", \"our\", \"ours\", \"ourselves\", \"you\", \"your\", \"yours\", \"yourself\",\n",
    "              \"yourselves\", \"he\", \"him\", \"his\", \"himself\", \"she\", \"her\", \"hers\", \"herself\", \"it\", \"its\", \"itself\",\n",
    "              \"they\", \"them\", \"their\", \"theirs\", \"themselves\", \"what\", \"which\", \"who\", \"whom\", \"this\", \"that\", \"these\",\n",
    "              \"those\", \"am\", \"is\", \"are\", \"was\", \"were\", \"be\", \"been\", \"being\", \"have\", \"has\", \"had\", \"having\", \"do\",\n",
    "              \"does\", \"did\", \"doing\", \"a\", \"an\", \"the\", \"and\", \"but\", \"if\", \"or\", \"because\", \"as\", \"until\", \"while\",\n",
    "              \"of\", \"at\", \"by\", \"for\", \"with\", \"about\", \"against\", \"between\", \"into\", \"through\", \"during\", \"before\",\n",
    "              \"after\", \"above\", \"below\", \"to\", \"from\", \"up\", \"down\", \"in\", \"out\", \"on\", \"off\", \"over\", \"under\", \"again\",\n",
    "              \"further\", \"then\", \"once\", \"here\", \"there\", \"when\", \"where\", \"why\", \"how\", \"all\", \"any\", \"both\", \"each\",\n",
    "              \"few\", \"more\", \"most\", \"other\", \"some\", \"such\", \"only\", \"own\", \"same\", \"so\", \"than\",\n",
    "              \"too\", \"very\", \"s\", \"t\", \"can\", \"will\", \"just\", \"don\", \"should\", \"now\"]\n",
    "        text = ' '.join([word for word in text.split() if word not in stop_words])\n",
    "\n",
    "        return text\n",
    "\n",
    "#preprocess_reviewtext(\"Hi! there2 how are you my amazing @#s s t bad\")"
   ]
  },
  {
   "cell_type": "code",
   "execution_count": 7,
   "id": "60acc5df",
   "metadata": {
    "execution": {
     "iopub.execute_input": "2023-08-13T13:46:23.332268Z",
     "iopub.status.busy": "2023-08-13T13:46:23.331914Z",
     "iopub.status.idle": "2023-08-13T13:46:23.336843Z",
     "shell.execute_reply": "2023-08-13T13:46:23.335800Z"
    },
    "papermill": {
     "duration": 0.017534,
     "end_time": "2023-08-13T13:46:23.338861",
     "exception": false,
     "start_time": "2023-08-13T13:46:23.321327",
     "status": "completed"
    },
    "tags": []
   },
   "outputs": [],
   "source": [
    "# Wrap functions using FunctionTransformer\n",
    "fillna_transformer = FunctionTransformer(lambda x: x.fillna(''), validate=False)\n",
    "preprocess_transformer = FunctionTransformer(lambda x: x.apply(preprocess_reviewtext), validate=False)"
   ]
  },
  {
   "cell_type": "code",
   "execution_count": 8,
   "id": "20fde414",
   "metadata": {
    "execution": {
     "iopub.execute_input": "2023-08-13T13:46:23.358633Z",
     "iopub.status.busy": "2023-08-13T13:46:23.358053Z",
     "iopub.status.idle": "2023-08-13T13:46:23.362266Z",
     "shell.execute_reply": "2023-08-13T13:46:23.361517Z"
    },
    "id": "j0XTSymiOq0y",
    "papermill": {
     "duration": 0.016091,
     "end_time": "2023-08-13T13:46:23.364104",
     "exception": false,
     "start_time": "2023-08-13T13:46:23.348013",
     "status": "completed"
    },
    "tags": []
   },
   "outputs": [],
   "source": [
    "# Seprating the variables\n",
    "X= train_data['reviewText']\n",
    "y= train_data['sentiment']"
   ]
  },
  {
   "cell_type": "code",
   "execution_count": 9,
   "id": "80ca9690",
   "metadata": {
    "execution": {
     "iopub.execute_input": "2023-08-13T13:46:23.383732Z",
     "iopub.status.busy": "2023-08-13T13:46:23.382636Z",
     "iopub.status.idle": "2023-08-13T13:46:23.413628Z",
     "shell.execute_reply": "2023-08-13T13:46:23.412573Z"
    },
    "id": "DZ7HUnDsOwDv",
    "papermill": {
     "duration": 0.04312,
     "end_time": "2023-08-13T13:46:23.416148",
     "exception": false,
     "start_time": "2023-08-13T13:46:23.373028",
     "status": "completed"
    },
    "tags": []
   },
   "outputs": [],
   "source": [
    "# Splitting the data into features (reviewText) and target (sentiment)\n",
    "X_train, X_val, y_train, y_val = train_test_split(X, y, test_size=0.2, random_state=42)"
   ]
  },
  {
   "cell_type": "markdown",
   "id": "6d2d0940",
   "metadata": {
    "papermill": {
     "duration": 0.008554,
     "end_time": "2023-08-13T13:46:23.433792",
     "exception": false,
     "start_time": "2023-08-13T13:46:23.425238",
     "status": "completed"
    },
    "tags": []
   },
   "source": [
    "# Logistic Regression Model"
   ]
  },
  {
   "cell_type": "code",
   "execution_count": 10,
   "id": "fb04f189",
   "metadata": {
    "execution": {
     "iopub.execute_input": "2023-08-13T13:46:23.453334Z",
     "iopub.status.busy": "2023-08-13T13:46:23.452916Z",
     "iopub.status.idle": "2023-08-13T13:46:47.031631Z",
     "shell.execute_reply": "2023-08-13T13:46:47.030393Z"
    },
    "papermill": {
     "duration": 23.591742,
     "end_time": "2023-08-13T13:46:47.034296",
     "exception": false,
     "start_time": "2023-08-13T13:46:23.442554",
     "status": "completed"
    },
    "tags": []
   },
   "outputs": [
    {
     "name": "stdout",
     "output_type": "stream",
     "text": [
      "Logistic Regression Training Accuracy: 0.8490146294281223\n",
      "Logistic Regression Validation Accuracy: 0.8025598865138472\n"
     ]
    }
   ],
   "source": [
    "#Pipeline for Logistic Regression\n",
    "pipeline_lr = Pipeline([\n",
    "    ('fillna', fillna_transformer),\n",
    "    ('preprocess', preprocess_transformer),\n",
    "    ('tfidf', TfidfVectorizer()),\n",
    "    ('logistic_regression_model', LogisticRegression( penalty='l2', solver='saga'))\n",
    "])\n",
    "pipeline_lr.fit(X_train, y_train)\n",
    "\n",
    "# Predict using the pipeline on training data\n",
    "y_train_pred_lr = pipeline_lr.predict(X_train)\n",
    "\n",
    "# Predict using the pipeline on validation data\n",
    "y_val_pred_lr = pipeline_lr.predict(X_val)\n",
    "\n",
    "# Compute accuracy for training data\n",
    "train_accuracy_lr = accuracy_score(y_train, y_train_pred_lr)\n",
    "\n",
    "# Compute accuracy for validation data\n",
    "val_accuracy_lr = accuracy_score(y_val, y_val_pred_lr)\n",
    "\n",
    "print(\"Logistic Regression Training Accuracy:\", train_accuracy_lr)\n",
    "print(\"Logistic Regression Validation Accuracy:\", val_accuracy_lr)"
   ]
  },
  {
   "cell_type": "code",
   "execution_count": 11,
   "id": "9695125b",
   "metadata": {
    "execution": {
     "iopub.execute_input": "2023-08-13T13:46:47.055311Z",
     "iopub.status.busy": "2023-08-13T13:46:47.054906Z",
     "iopub.status.idle": "2023-08-13T13:46:49.941630Z",
     "shell.execute_reply": "2023-08-13T13:46:49.940251Z"
    },
    "papermill": {
     "duration": 2.89989,
     "end_time": "2023-08-13T13:46:49.944240",
     "exception": false,
     "start_time": "2023-08-13T13:46:47.044350",
     "status": "completed"
    },
    "tags": []
   },
   "outputs": [
    {
     "name": "stdout",
     "output_type": "stream",
     "text": [
      "Confuison Matrix for Logistic Regression: \n",
      " [[ 6010  4236]\n",
      " [ 1888 18883]]\n",
      "\n",
      "Classification Report for Logistic Regression: \n",
      "               precision    recall  f1-score   support\n",
      "\n",
      "    NEGATIVE       0.76      0.59      0.66     10246\n",
      "    POSITIVE       0.82      0.91      0.86     20771\n",
      "\n",
      "    accuracy                           0.80     31017\n",
      "   macro avg       0.79      0.75      0.76     31017\n",
      "weighted avg       0.80      0.80      0.80     31017\n",
      "\n"
     ]
    }
   ],
   "source": [
    "#Creating Confusion Matrix and Classification Report for LR\n",
    "print(\"Confuison Matrix for Logistic Regression:\",\"\\n\",confusion_matrix(y_val, y_val_pred_lr))\n",
    "print()\n",
    "print(\"Classification Report for Logistic Regression:\",\"\\n\",classification_report(y_val, y_val_pred_lr))"
   ]
  },
  {
   "cell_type": "markdown",
   "id": "ec290f20",
   "metadata": {
    "papermill": {
     "duration": 0.009172,
     "end_time": "2023-08-13T13:46:49.963283",
     "exception": false,
     "start_time": "2023-08-13T13:46:49.954111",
     "status": "completed"
    },
    "tags": []
   },
   "source": [
    "# Decision Tree Model"
   ]
  },
  {
   "cell_type": "code",
   "execution_count": 12,
   "id": "fbc971ab",
   "metadata": {
    "execution": {
     "iopub.execute_input": "2023-08-13T13:46:49.984519Z",
     "iopub.status.busy": "2023-08-13T13:46:49.984107Z",
     "iopub.status.idle": "2023-08-13T13:47:15.767015Z",
     "shell.execute_reply": "2023-08-13T13:47:15.765872Z"
    },
    "id": "mjdcVCs3FN6L",
    "outputId": "0f3660e4-e773-436a-83c2-67f17551223e",
    "papermill": {
     "duration": 25.795913,
     "end_time": "2023-08-13T13:47:15.769113",
     "exception": false,
     "start_time": "2023-08-13T13:46:49.973200",
     "status": "completed"
    },
    "tags": []
   },
   "outputs": [
    {
     "name": "stdout",
     "output_type": "stream",
     "text": [
      "Decision Tree Training Accuracy: 0.6919195582960544\n",
      "Decision Tree Validation Accuracy: 0.6909759164329239\n"
     ]
    }
   ],
   "source": [
    "#Pipeline for DecisionTree\n",
    "pipeline_DT = Pipeline([\n",
    "    ('fillna', fillna_transformer),\n",
    "    ('preprocess', preprocess_transformer),\n",
    "    ('tfidf', TfidfVectorizer()),\n",
    "    ('decision_tree_model', DecisionTreeClassifier(criterion='gini', max_depth=10, min_samples_leaf=3))\n",
    "])\n",
    "pipeline_DT.fit(X_train, y_train)\n",
    "\n",
    "# Predict using the pipeline on training data\n",
    "y_train_pred_DT = pipeline_DT.predict(X_train)\n",
    "\n",
    "# Predict using the pipeline on validation data\n",
    "y_val_pred_DT = pipeline_DT.predict(X_val)\n",
    "\n",
    "# Compute accuracy for training data\n",
    "train_accuracy_DT = accuracy_score(y_train, y_train_pred_DT)\n",
    "\n",
    "# Compute accuracy for validation data\n",
    "val_accuracy_DT = accuracy_score(y_val, y_val_pred_DT)\n",
    "\n",
    "print(\"Decision Tree Training Accuracy:\", train_accuracy_DT)\n",
    "print(\"Decision Tree Validation Accuracy:\", val_accuracy_DT)"
   ]
  },
  {
   "cell_type": "code",
   "execution_count": 13,
   "id": "e1b7e414",
   "metadata": {
    "execution": {
     "iopub.execute_input": "2023-08-13T13:47:15.790324Z",
     "iopub.status.busy": "2023-08-13T13:47:15.789900Z",
     "iopub.status.idle": "2023-08-13T13:47:18.490674Z",
     "shell.execute_reply": "2023-08-13T13:47:18.489301Z"
    },
    "papermill": {
     "duration": 2.714234,
     "end_time": "2023-08-13T13:47:18.493192",
     "exception": false,
     "start_time": "2023-08-13T13:47:15.778958",
     "status": "completed"
    },
    "tags": []
   },
   "outputs": [
    {
     "name": "stdout",
     "output_type": "stream",
     "text": [
      "Confuison Matrix for Decision Tree: \n",
      " [[  990  9256]\n",
      " [  329 20442]]\n",
      "\n",
      "Classification Report for Decision Tree: \n",
      "               precision    recall  f1-score   support\n",
      "\n",
      "    NEGATIVE       0.75      0.10      0.17     10246\n",
      "    POSITIVE       0.69      0.98      0.81     20771\n",
      "\n",
      "    accuracy                           0.69     31017\n",
      "   macro avg       0.72      0.54      0.49     31017\n",
      "weighted avg       0.71      0.69      0.60     31017\n",
      "\n"
     ]
    }
   ],
   "source": [
    "#Creating Confusion Matrix and Classification Report for DT\n",
    "print(\"Confuison Matrix for Decision Tree:\",\"\\n\",confusion_matrix(y_val, y_val_pred_DT))\n",
    "print()\n",
    "print(\"Classification Report for Decision Tree:\",\"\\n\",classification_report(y_val, y_val_pred_DT))"
   ]
  },
  {
   "cell_type": "markdown",
   "id": "a7fac985",
   "metadata": {
    "papermill": {
     "duration": 0.009868,
     "end_time": "2023-08-13T13:47:18.513030",
     "exception": false,
     "start_time": "2023-08-13T13:47:18.503162",
     "status": "completed"
    },
    "tags": []
   },
   "source": [
    "# Multinomial Naive Bayes Model\n",
    "### For this using hyperparameters to best fit the model"
   ]
  },
  {
   "cell_type": "code",
   "execution_count": 14,
   "id": "713f2522",
   "metadata": {
    "execution": {
     "iopub.execute_input": "2023-08-13T13:47:18.535306Z",
     "iopub.status.busy": "2023-08-13T13:47:18.534856Z",
     "iopub.status.idle": "2023-08-13T13:52:28.052408Z",
     "shell.execute_reply": "2023-08-13T13:52:28.051356Z"
    },
    "id": "PwgI5tqcFN3E",
    "papermill": {
     "duration": 309.541103,
     "end_time": "2023-08-13T13:52:28.064341",
     "exception": false,
     "start_time": "2023-08-13T13:47:18.523238",
     "status": "completed"
    },
    "tags": []
   },
   "outputs": [
    {
     "data": {
      "text/plain": [
       "({'multinomialNB_model__alpha': 0.001}, 0.7694595574900254)"
      ]
     },
     "execution_count": 14,
     "metadata": {},
     "output_type": "execute_result"
    }
   ],
   "source": [
    "# Create the enhanced end-to-end pipeline\n",
    "pipeline_MNB = Pipeline([\n",
    "    ('fillna', fillna_transformer),\n",
    "    ('preprocess', preprocess_transformer),\n",
    "    ('tfidf', TfidfVectorizer(max_features = 5000)), \n",
    "    ('multinomialNB_model', MultinomialNB())\n",
    "])\n",
    "\n",
    "# Hyperparameters to tune\n",
    "params = {\n",
    "    'multinomialNB_model__alpha': [0.001, 0.01, 0.1, 0.5, 1.0, 10.0]\n",
    "}\n",
    "\n",
    "# Grid search with cross-validation\n",
    "grid_search_mnb = GridSearchCV(pipeline_MNB, param_grid=params, cv=5, scoring='accuracy')\n",
    "\n",
    "# Fit the grid search to the data\n",
    "grid_search_mnb.fit(X_train, y_train)\n",
    "\n",
    "# Get the best hyperparameters and the corresponding score\n",
    "best_params_mnb = grid_search_mnb.best_params_\n",
    "best_score_mnb = grid_search_mnb.best_score_\n",
    "best_pipeline = grid_search_mnb.best_estimator_\n",
    "\n",
    "best_params_mnb, best_score_mnb"
   ]
  },
  {
   "cell_type": "code",
   "execution_count": 15,
   "id": "2fc27446",
   "metadata": {
    "execution": {
     "iopub.execute_input": "2023-08-13T13:52:28.084589Z",
     "iopub.status.busy": "2023-08-13T13:52:28.084231Z",
     "iopub.status.idle": "2023-08-13T13:52:40.066900Z",
     "shell.execute_reply": "2023-08-13T13:52:40.065714Z"
    },
    "papermill": {
     "duration": 11.995465,
     "end_time": "2023-08-13T13:52:40.069091",
     "exception": false,
     "start_time": "2023-08-13T13:52:28.073626",
     "status": "completed"
    },
    "tags": []
   },
   "outputs": [
    {
     "name": "stdout",
     "output_type": "stream",
     "text": [
      "MultinomialNB Training Accuracy: 0.780002418087293\n",
      "MultinomialNB Validation Accuracy: 0.7718025598865138\n"
     ]
    }
   ],
   "source": [
    "# Predict using the pipeline on training data\n",
    "y_train_pred_MNB = best_pipeline.predict(X_train)\n",
    "\n",
    "# Predict using the pipeline on validation data\n",
    "y_val_pred_MNB = best_pipeline.predict(X_val)\n",
    "\n",
    "# Compute accuracy for training data\n",
    "train_accuracy_MNB = accuracy_score(y_train, y_train_pred_MNB)\n",
    "\n",
    "# Compute accuracy for validation data\n",
    "val_accuracy_MNB = accuracy_score(y_val, y_val_pred_MNB)\n",
    "\n",
    "print(\"MultinomialNB Training Accuracy:\", train_accuracy_MNB)\n",
    "print(\"MultinomialNB Validation Accuracy:\", val_accuracy_MNB)"
   ]
  },
  {
   "cell_type": "code",
   "execution_count": 16,
   "id": "1b7f8ddd",
   "metadata": {
    "execution": {
     "iopub.execute_input": "2023-08-13T13:52:40.090356Z",
     "iopub.status.busy": "2023-08-13T13:52:40.089949Z",
     "iopub.status.idle": "2023-08-13T13:52:42.341045Z",
     "shell.execute_reply": "2023-08-13T13:52:42.339891Z"
    },
    "papermill": {
     "duration": 2.264741,
     "end_time": "2023-08-13T13:52:42.343438",
     "exception": false,
     "start_time": "2023-08-13T13:52:40.078697",
     "status": "completed"
    },
    "tags": []
   },
   "outputs": [
    {
     "name": "stdout",
     "output_type": "stream",
     "text": [
      "Confuison Matrix for MultinomialNB: \n",
      " [[ 4265  5981]\n",
      " [ 1097 19674]]\n",
      "\n",
      "Classification Report for MultinomialNB: \n",
      "               precision    recall  f1-score   support\n",
      "\n",
      "    NEGATIVE       0.80      0.42      0.55     10246\n",
      "    POSITIVE       0.77      0.95      0.85     20771\n",
      "\n",
      "    accuracy                           0.77     31017\n",
      "   macro avg       0.78      0.68      0.70     31017\n",
      "weighted avg       0.78      0.77      0.75     31017\n",
      "\n"
     ]
    }
   ],
   "source": [
    "#Creating Confusion Matrix and Classification Report for MNB\n",
    "print(\"Confuison Matrix for MultinomialNB:\",\"\\n\",confusion_matrix(y_val, y_val_pred_MNB))\n",
    "print()\n",
    "print(\"Classification Report for MultinomialNB:\",\"\\n\",classification_report(y_val, y_val_pred_MNB))"
   ]
  },
  {
   "cell_type": "markdown",
   "id": "21df458e",
   "metadata": {
    "papermill": {
     "duration": 0.010053,
     "end_time": "2023-08-13T13:52:42.365796",
     "exception": false,
     "start_time": "2023-08-13T13:52:42.355743",
     "status": "completed"
    },
    "tags": []
   },
   "source": [
    "# Logisctic Regression has the highest score \n",
    "#### So let's fit it"
   ]
  },
  {
   "cell_type": "code",
   "execution_count": 17,
   "id": "131e257d",
   "metadata": {
    "execution": {
     "iopub.execute_input": "2023-08-13T13:52:42.387815Z",
     "iopub.status.busy": "2023-08-13T13:52:42.387419Z",
     "iopub.status.idle": "2023-08-13T13:52:42.774861Z",
     "shell.execute_reply": "2023-08-13T13:52:42.773784Z"
    },
    "papermill": {
     "duration": 0.401979,
     "end_time": "2023-08-13T13:52:42.778154",
     "exception": false,
     "start_time": "2023-08-13T13:52:42.376175",
     "status": "completed"
    },
    "tags": []
   },
   "outputs": [],
   "source": [
    "#Loading test data\n",
    "test_data = pd.read_csv('/kaggle/input/sentiment-prediction-on-movie-reviews/test.csv')"
   ]
  },
  {
   "cell_type": "code",
   "execution_count": 18,
   "id": "00143866",
   "metadata": {
    "execution": {
     "iopub.execute_input": "2023-08-13T13:52:42.808728Z",
     "iopub.status.busy": "2023-08-13T13:52:42.807579Z",
     "iopub.status.idle": "2023-08-13T13:52:46.582872Z",
     "shell.execute_reply": "2023-08-13T13:52:46.581887Z"
    },
    "id": "3N5ve0ozQEa7",
    "papermill": {
     "duration": 3.79194,
     "end_time": "2023-08-13T13:52:46.585112",
     "exception": false,
     "start_time": "2023-08-13T13:52:42.793172",
     "status": "completed"
    },
    "tags": []
   },
   "outputs": [
    {
     "data": {
      "text/plain": [
       "(55315,)"
      ]
     },
     "execution_count": 18,
     "metadata": {},
     "output_type": "execute_result"
    }
   ],
   "source": [
    "# Transforming the test data and making predictions\n",
    "test_predictions= pipeline_lr.predict(test_data['reviewText'])\n",
    "\n",
    "test_predictions.shape"
   ]
  },
  {
   "cell_type": "code",
   "execution_count": 19,
   "id": "5007110c",
   "metadata": {
    "execution": {
     "iopub.execute_input": "2023-08-13T13:52:46.607747Z",
     "iopub.status.busy": "2023-08-13T13:52:46.607415Z",
     "iopub.status.idle": "2023-08-13T13:52:46.677592Z",
     "shell.execute_reply": "2023-08-13T13:52:46.676523Z"
    },
    "papermill": {
     "duration": 0.083976,
     "end_time": "2023-08-13T13:52:46.680095",
     "exception": false,
     "start_time": "2023-08-13T13:52:46.596119",
     "status": "completed"
    },
    "tags": []
   },
   "outputs": [],
   "source": [
    "# Creating a submission DataFrame with the predicted sentiments\n",
    "submission = pd.DataFrame(columns=['id', 'sentiment'])\n",
    "\n",
    "submission['id']= [i for i in range(len(test_predictions))]\n",
    "submission['sentiment'] =test_predictions"
   ]
  },
  {
   "cell_type": "code",
   "execution_count": 20,
   "id": "a84ef786",
   "metadata": {
    "execution": {
     "iopub.execute_input": "2023-08-13T13:52:46.702075Z",
     "iopub.status.busy": "2023-08-13T13:52:46.701704Z",
     "iopub.status.idle": "2023-08-13T13:52:46.708219Z",
     "shell.execute_reply": "2023-08-13T13:52:46.707194Z"
    },
    "papermill": {
     "duration": 0.019915,
     "end_time": "2023-08-13T13:52:46.710324",
     "exception": false,
     "start_time": "2023-08-13T13:52:46.690409",
     "status": "completed"
    },
    "tags": []
   },
   "outputs": [
    {
     "data": {
      "text/plain": [
       "(55315, 2)"
      ]
     },
     "execution_count": 20,
     "metadata": {},
     "output_type": "execute_result"
    }
   ],
   "source": [
    "submission.shape"
   ]
  },
  {
   "cell_type": "code",
   "execution_count": 21,
   "id": "ac1ae808",
   "metadata": {
    "execution": {
     "iopub.execute_input": "2023-08-13T13:52:46.732140Z",
     "iopub.status.busy": "2023-08-13T13:52:46.731777Z",
     "iopub.status.idle": "2023-08-13T13:52:46.741015Z",
     "shell.execute_reply": "2023-08-13T13:52:46.740190Z"
    },
    "papermill": {
     "duration": 0.02269,
     "end_time": "2023-08-13T13:52:46.742932",
     "exception": false,
     "start_time": "2023-08-13T13:52:46.720242",
     "status": "completed"
    },
    "tags": []
   },
   "outputs": [
    {
     "data": {
      "text/plain": [
       "<bound method DataFrame.info of           id sentiment\n",
       "0          0  POSITIVE\n",
       "1          1  POSITIVE\n",
       "2          2  POSITIVE\n",
       "3          3  POSITIVE\n",
       "4          4  POSITIVE\n",
       "...      ...       ...\n",
       "55310  55310  POSITIVE\n",
       "55311  55311  NEGATIVE\n",
       "55312  55312  NEGATIVE\n",
       "55313  55313  POSITIVE\n",
       "55314  55314  NEGATIVE\n",
       "\n",
       "[55315 rows x 2 columns]>"
      ]
     },
     "execution_count": 21,
     "metadata": {},
     "output_type": "execute_result"
    }
   ],
   "source": [
    "submission.info"
   ]
  },
  {
   "cell_type": "code",
   "execution_count": 22,
   "id": "91e0b36c",
   "metadata": {
    "execution": {
     "iopub.execute_input": "2023-08-13T13:52:46.765399Z",
     "iopub.status.busy": "2023-08-13T13:52:46.765062Z",
     "iopub.status.idle": "2023-08-13T13:52:46.916140Z",
     "shell.execute_reply": "2023-08-13T13:52:46.915243Z"
    },
    "papermill": {
     "duration": 0.165345,
     "end_time": "2023-08-13T13:52:46.918701",
     "exception": false,
     "start_time": "2023-08-13T13:52:46.753356",
     "status": "completed"
    },
    "tags": []
   },
   "outputs": [],
   "source": [
    "#Creating the file\n",
    "submission.to_csv('submission.csv', index=False)"
   ]
  },
  {
   "cell_type": "code",
   "execution_count": 23,
   "id": "12307b24",
   "metadata": {
    "execution": {
     "iopub.execute_input": "2023-08-13T13:52:46.941829Z",
     "iopub.status.busy": "2023-08-13T13:52:46.941425Z",
     "iopub.status.idle": "2023-08-13T13:52:46.966905Z",
     "shell.execute_reply": "2023-08-13T13:52:46.966218Z"
    },
    "papermill": {
     "duration": 0.039898,
     "end_time": "2023-08-13T13:52:46.969415",
     "exception": false,
     "start_time": "2023-08-13T13:52:46.929517",
     "status": "completed"
    },
    "tags": []
   },
   "outputs": [
    {
     "data": {
      "text/html": [
       "<div>\n",
       "<style scoped>\n",
       "    .dataframe tbody tr th:only-of-type {\n",
       "        vertical-align: middle;\n",
       "    }\n",
       "\n",
       "    .dataframe tbody tr th {\n",
       "        vertical-align: top;\n",
       "    }\n",
       "\n",
       "    .dataframe thead th {\n",
       "        text-align: right;\n",
       "    }\n",
       "</style>\n",
       "<table border=\"1\" class=\"dataframe\">\n",
       "  <thead>\n",
       "    <tr style=\"text-align: right;\">\n",
       "      <th></th>\n",
       "      <th>id</th>\n",
       "      <th>sentiment</th>\n",
       "    </tr>\n",
       "  </thead>\n",
       "  <tbody>\n",
       "    <tr>\n",
       "      <th>0</th>\n",
       "      <td>0</td>\n",
       "      <td>POSITIVE</td>\n",
       "    </tr>\n",
       "    <tr>\n",
       "      <th>1</th>\n",
       "      <td>1</td>\n",
       "      <td>POSITIVE</td>\n",
       "    </tr>\n",
       "    <tr>\n",
       "      <th>2</th>\n",
       "      <td>2</td>\n",
       "      <td>POSITIVE</td>\n",
       "    </tr>\n",
       "    <tr>\n",
       "      <th>3</th>\n",
       "      <td>3</td>\n",
       "      <td>POSITIVE</td>\n",
       "    </tr>\n",
       "    <tr>\n",
       "      <th>4</th>\n",
       "      <td>4</td>\n",
       "      <td>POSITIVE</td>\n",
       "    </tr>\n",
       "  </tbody>\n",
       "</table>\n",
       "</div>"
      ],
      "text/plain": [
       "   id sentiment\n",
       "0   0  POSITIVE\n",
       "1   1  POSITIVE\n",
       "2   2  POSITIVE\n",
       "3   3  POSITIVE\n",
       "4   4  POSITIVE"
      ]
     },
     "execution_count": 23,
     "metadata": {},
     "output_type": "execute_result"
    }
   ],
   "source": [
    "confirm = pd.read_csv('submission.csv')\n",
    "confirm.head()"
   ]
  }
 ],
 "metadata": {
  "kernelspec": {
   "display_name": "Python 3",
   "language": "python",
   "name": "python3"
  },
  "language_info": {
   "codemirror_mode": {
    "name": "ipython",
    "version": 3
   },
   "file_extension": ".py",
   "mimetype": "text/x-python",
   "name": "python",
   "nbconvert_exporter": "python",
   "pygments_lexer": "ipython3",
   "version": "3.10.10"
  },
  "papermill": {
   "default_parameters": {},
   "duration": 401.313193,
   "end_time": "2023-08-13T13:52:47.902510",
   "environment_variables": {},
   "exception": null,
   "input_path": "__notebook__.ipynb",
   "output_path": "__notebook__.ipynb",
   "parameters": {},
   "start_time": "2023-08-13T13:46:06.589317",
   "version": "2.4.0"
  }
 },
 "nbformat": 4,
 "nbformat_minor": 5
}
